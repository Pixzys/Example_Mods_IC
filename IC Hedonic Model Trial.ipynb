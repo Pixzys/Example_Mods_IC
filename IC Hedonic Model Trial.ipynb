{
 "cells": [
  {
   "cell_type": "code",
   "execution_count": 11,
   "metadata": {
    "collapsed": false
   },
   "outputs": [],
   "source": [
    "import os\n",
    "import pandas as pd\n",
    "import numpy as np\n",
    "import orca\n",
    "from urbansim.models import RegressionModel\n",
    "from urbansim.utils import misc\n"
   ]
  },
  {
   "cell_type": "code",
   "execution_count": 12,
   "metadata": {
    "collapsed": false
   },
   "outputs": [],
   "source": [
    "#Importing the csv containing sqfootage\n",
    "# ABOUT THE STEP BELOW: Need to figure out csv->hdf5 so discrete data sources can be under one roof\n",
    "orca.add_injectable(\"store\", pd.HDFStore(os.path.join(misc.data_dir(), \"IC_data.h5\"), mode=\"r\"))"
   ]
  },
  {
   "cell_type": "code",
   "execution_count": 13,
   "metadata": {
    "collapsed": false
   },
   "outputs": [],
   "source": [
    "@orca.table('ICHPM')\n",
    "def ICHPM(store):\n",
    "    df=store['ICHPM']\n",
    "    return df\n",
    "\n",
    "@orca.table('Property Sales')\n",
    "def Property_Sales(store):\n",
    "    df=store['Property_Sales']\n",
    "    return df"
   ]
  },
  {
   "cell_type": "code",
   "execution_count": 14,
   "metadata": {
    "collapsed": false
   },
   "outputs": [
    {
     "name": "stdout",
     "output_type": "stream",
     "text": [
      "Stored variables and their in-db values:\n"
     ]
    }
   ],
   "source": [
    "store"
   ]
  },
  {
   "cell_type": "code",
   "execution_count": null,
   "metadata": {
    "collapsed": true
   },
   "outputs": [],
   "source": []
  }
 ],
 "metadata": {
  "anaconda-cloud": {},
  "kernelspec": {
   "display_name": "Python 2",
   "language": "python",
   "name": "python2"
  },
  "language_info": {
   "codemirror_mode": {
    "name": "ipython",
    "version": 2
   },
   "file_extension": ".py",
   "mimetype": "text/x-python",
   "name": "python",
   "nbconvert_exporter": "python",
   "pygments_lexer": "ipython2",
   "version": "2.7.11"
  }
 },
 "nbformat": 4,
 "nbformat_minor": 0
}
